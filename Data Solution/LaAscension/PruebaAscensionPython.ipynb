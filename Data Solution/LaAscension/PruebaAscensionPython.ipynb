{
 "cells": [
  {
   "cell_type": "markdown",
   "metadata": {},
   "source": [
    "# Prueba Python La Ascensión"
   ]
  },
  {
   "cell_type": "code",
   "execution_count": 12,
   "metadata": {},
   "outputs": [],
   "source": [
    "from datetime import datetime\n",
    "import pandas as pd\n",
    "import numpy as np\n",
    "import unicodedata as ud\n",
    "import random\n",
    "import statistics\n",
    "import time as tm"
   ]
  },
  {
   "cell_type": "markdown",
   "metadata": {},
   "source": [
    "## Primera pregunta (0/1)\n",
    "A continuación, la función debe retornar una lista con todos los tipos de datos de 1997/09/2023 convertido a String, numero, booleano si la fecha esta correcta o no."
   ]
  },
  {
   "cell_type": "code",
   "execution_count": 3,
   "metadata": {},
   "outputs": [
    {
     "name": "stdout",
     "output_type": "stream",
     "text": [
      "Valor ingresado : 1997/09/2023\n",
      "String : 1997/09/2023\n",
      "Int : None\n",
      "Boolean : False\n"
     ]
    }
   ],
   "source": [
    "#Se define la función\n",
    "def obtener_tipos_de_datos(fecha):\n",
    "    #Creación de la lista que va a almacenar el resultado\n",
    "    tipos_de_datos = []\n",
    "\n",
    "    #Uso de Try y Except para lograr clasificar el resultado\n",
    "    try:\n",
    "        fecha = datetime.strptime(fecha, '%Y/%m/%d')\n",
    "        tipos_de_datos.append(str(fecha))  \n",
    "        tipos_de_datos.append(int(fecha.timestamp()))  \n",
    "        tipos_de_datos.append(True)  \n",
    "    except ValueError:\n",
    "        tipos_de_datos.append(fecha)  \n",
    "        tipos_de_datos.append(None)  \n",
    "        tipos_de_datos.append(False)  \n",
    "\n",
    "    return tipos_de_datos\n",
    "    \n",
    "#Se solicita ingresar por teclado la fecha para comprobar el funcionamiento de la función    \n",
    "fecha = input(\"Ingrese la fecha en formato YYYY/MM/DD: \")\n",
    "#Se define la variable tipos para imprimir los resultados almacenados\n",
    "tipos = obtener_tipos_de_datos(fecha)\n",
    "#Se imprimen los tipos de datos teniendo en cuenta el valor ingresado\n",
    "print(f'Valor ingresado : {fecha}\\nString : {tipos[0]}\\nInt : {tipos[1]}\\nBoolean : {tipos[2]}')  \n"
   ]
  },
  {
   "cell_type": "markdown",
   "metadata": {},
   "source": [
    "## Segunda pregunta (0/1)\n",
    "Use el algoritmo de burbuja para encontrar el máximo y el mínimo del siguiente diccionario:\n",
    "dict_1 = {a : '8' , b = '2' , c ='5 , d = '6'} Recuerde ordenar por el valor."
   ]
  },
  {
   "cell_type": "code",
   "execution_count": 4,
   "metadata": {},
   "outputs": [
    {
     "name": "stdout",
     "output_type": "stream",
     "text": [
      "Diccionario:{'a': '8', 'b': '2', 'c': '5', 'd': '6'}\n",
      "Valores ordenados: [2, 5, 6, 8]\n",
      "Valor máximo: 8\n",
      "Valor mínimo: 2\n"
     ]
    }
   ],
   "source": [
    "#Se define la función de burbuja\n",
    "def bubble(valores):\n",
    "    n = len(valores)\n",
    "    for i in range(n):\n",
    "        for j in range(0, n-i-1):\n",
    "            if valores[j] > valores[j+1]:\n",
    "                valores[j], valores[j+1] = valores[j+1], valores[j]\n",
    "    return valores\n",
    "\n",
    "#Se define el diccionario\n",
    "dict_1 = {'a': '8', 'b': '2', 'c': '5', 'd': '6'}\n",
    "\n",
    "#Se convierten los valores del diccionario a una lista\n",
    "valores = [int(v) for v in dict_1.values()]\n",
    "\n",
    "#Se ordenar la lista\n",
    "valores_ordenados = bubble(valores)\n",
    "\n",
    "#Se selecciona el primer valor siendo el mínimo\n",
    "minimo = valores_ordenados[0]\n",
    "#Se selecciona el último valor de la lista siendo el mayor\n",
    "maximo = valores_ordenados[-1]\n",
    "\n",
    "#Se imprimen los resultados\n",
    "print(f'Diccionario:{dict_1}')\n",
    "print(f'Valores ordenados: {valores_ordenados}')\n",
    "print(f'Valor máximo: {maximo}')\n",
    "print(f'Valor mínimo: {minimo}')\n",
    "\n",
    "\n"
   ]
  },
  {
   "cell_type": "markdown",
   "metadata": {},
   "source": [
    "## Tercera pregunta (0/1)\n",
    "Genere la secuencia de Fibonacci en donde usando bucles for, la función debe crear un Data Frame hasta n = 100 donde se identifique si la suma (n + 1) es primo o no (en booleano)"
   ]
  },
  {
   "cell_type": "code",
   "execution_count": 6,
   "metadata": {},
   "outputs": [
    {
     "ename": "KeyboardInterrupt",
     "evalue": "",
     "output_type": "error",
     "traceback": [
      "\u001b[1;31m---------------------------------------------------------------------------\u001b[0m",
      "\u001b[1;31mKeyboardInterrupt\u001b[0m                         Traceback (most recent call last)",
      "Cell \u001b[1;32mIn[6], line 32\u001b[0m\n\u001b[0;32m     30\u001b[0m \u001b[38;5;66;03m# Se solicita definir el valor de n para ingresar por teclado\u001b[39;00m\n\u001b[0;32m     31\u001b[0m n \u001b[38;5;241m=\u001b[39m \u001b[38;5;28mint\u001b[39m(\u001b[38;5;28minput\u001b[39m(\u001b[38;5;124m\"\u001b[39m\u001b[38;5;124mIngrese un número para generar la secuencia de Fibonacci: \u001b[39m\u001b[38;5;124m\"\u001b[39m))\n\u001b[1;32m---> 32\u001b[0m datos \u001b[38;5;241m=\u001b[39m \u001b[43msecuencia_fibonacci_y_primos\u001b[49m\u001b[43m(\u001b[49m\u001b[43mn\u001b[49m\u001b[43m)\u001b[49m\n\u001b[0;32m     34\u001b[0m \u001b[38;5;66;03m# Si se generaron todos los datos sin superar el tiempo límite, se crea el DataFrame\u001b[39;00m\n\u001b[0;32m     35\u001b[0m df_fibonacci \u001b[38;5;241m=\u001b[39m pd\u001b[38;5;241m.\u001b[39mDataFrame(datos, columns\u001b[38;5;241m=\u001b[39m[\u001b[38;5;124m'\u001b[39m\u001b[38;5;124mFibonacci_n\u001b[39m\u001b[38;5;124m'\u001b[39m, \u001b[38;5;124m'\u001b[39m\u001b[38;5;124mFibonacci_n+1\u001b[39m\u001b[38;5;124m'\u001b[39m, \u001b[38;5;124m'\u001b[39m\u001b[38;5;124mSuma\u001b[39m\u001b[38;5;124m'\u001b[39m, \u001b[38;5;124m'\u001b[39m\u001b[38;5;124mEs_primo\u001b[39m\u001b[38;5;124m'\u001b[39m])\n",
      "Cell \u001b[1;32mIn[6], line 17\u001b[0m, in \u001b[0;36msecuencia_fibonacci_y_primos\u001b[1;34m(n)\u001b[0m\n\u001b[0;32m     15\u001b[0m es_primo \u001b[38;5;241m=\u001b[39m \u001b[38;5;28;01mTrue\u001b[39;00m\n\u001b[0;32m     16\u001b[0m \u001b[38;5;28;01mfor\u001b[39;00m j \u001b[38;5;129;01min\u001b[39;00m \u001b[38;5;28mrange\u001b[39m(\u001b[38;5;241m2\u001b[39m, \u001b[38;5;28mint\u001b[39m(suma \u001b[38;5;241m*\u001b[39m\u001b[38;5;241m*\u001b[39m \u001b[38;5;241m0.5\u001b[39m) \u001b[38;5;241m+\u001b[39m \u001b[38;5;241m1\u001b[39m):\n\u001b[1;32m---> 17\u001b[0m     \u001b[38;5;28;01mif\u001b[39;00m \u001b[43msuma\u001b[49m\u001b[43m \u001b[49m\u001b[38;5;241;43m%\u001b[39;49m\u001b[43m \u001b[49m\u001b[43mj\u001b[49m \u001b[38;5;241m==\u001b[39m \u001b[38;5;241m0\u001b[39m:\n\u001b[0;32m     18\u001b[0m         es_primo \u001b[38;5;241m=\u001b[39m \u001b[38;5;28;01mFalse\u001b[39;00m\n\u001b[0;32m     19\u001b[0m         \u001b[38;5;28;01mbreak\u001b[39;00m\n",
      "\u001b[1;31mKeyboardInterrupt\u001b[0m: "
     ]
    }
   ],
   "source": [
    "# Función para generar la secuencia de Fibonacci y verificar los números primos al mismo tiempo\n",
    "def secuencia_fibonacci_y_primos(n):\n",
    "    fibonacci = [0, 1]\n",
    "    datos = []\n",
    "\n",
    "    for i in range(2, n):\n",
    "        tiempo_inicio = tm.time()  # Tiempo de inicio de la iteración\n",
    "        siguiente_numero = fibonacci[-1] + fibonacci[-2]\n",
    "        fibonacci.append(siguiente_numero)\n",
    "\n",
    "        # Verificar si el número es primo\n",
    "        suma = fibonacci[-1] + fibonacci[-2]\n",
    "        es_primo = False\n",
    "        if suma > 1:\n",
    "            es_primo = True\n",
    "            for j in range(2, int(suma ** 0.5) + 1):\n",
    "                if suma % j == 0:\n",
    "                    es_primo = False\n",
    "                    break\n",
    "        \n",
    "        datos.append((fibonacci[-2], fibonacci[-1], suma, es_primo))\n",
    "\n",
    "        tiempo_transcurrido = tm.time() - tiempo_inicio  # Tiempo transcurrido en la iteración\n",
    "        if tiempo_transcurrido > 60:  # Si el tiempo supera 1 minuto\n",
    "            print(\"Tiempo de ejecución muy alto\")\n",
    "            return datos\n",
    "\n",
    "    return datos\n",
    "\n",
    "# Se solicita definir el valor de n para ingresar por teclado\n",
    "n = int(input(\"Ingrese un número para generar la secuencia de Fibonacci: \"))\n",
    "datos = secuencia_fibonacci_y_primos(n)\n",
    "\n",
    "# Si se generaron todos los datos sin superar el tiempo límite, se crea el DataFrame\n",
    "df_fibonacci = pd.DataFrame(datos, columns=['Fibonacci_n', 'Fibonacci_n+1', 'Suma', 'Es_primo'])\n",
    "\n",
    "# Se imprime el DataFrame\n",
    "print(df_fibonacci)"
   ]
  },
  {
   "cell_type": "markdown",
   "metadata": {},
   "source": [
    "## Cuarta Pregunta (0/1)\n",
    "Cree una función tal que de árbol con condicionales IF donde la entrada sea un parentesco y el algoritmo de salida retorne 1 si es hijo o no es hijo del nivel superior del árbol\n",
    "Considere una familia de 4 abuelos,2 sobrinos, 2 padres, 1 padre desconocido, 4 hijos, 7 primos."
   ]
  },
  {
   "cell_type": "code",
   "execution_count": 5,
   "metadata": {},
   "outputs": [
    {
     "name": "stdout",
     "output_type": "stream",
     "text": [
      "Seleccione la persona a evaluar:\n",
      "1. abuelo1\n",
      "2. abuelo2\n",
      "3. abuelo3\n",
      "4. abuelo4\n",
      "5. sobrino1\n",
      "6. sobrino2\n",
      "7. padre1\n",
      "8. padre2\n",
      "9. padre_desconocido\n",
      "10. hijo1\n",
      "11. hijo2\n",
      "12. hijo3\n",
      "13. hijo4\n",
      "14. primo1\n",
      "15. primo2\n",
      "16. primo3\n",
      "17. primo4\n",
      "18. primo5\n",
      "19. primo6\n",
      "20. primo7\n",
      "abuelo1 es hijo del nivel superior del árbol genealógico.\n"
     ]
    }
   ],
   "source": [
    "#Se define la función de parentesco\n",
    "def determinar_parentesco(persona):\n",
    "    #Se definen los cuatro abuelos\n",
    "    if persona in ['abuelo1', 'abuelo2', 'abuelo3', 'abuelo4']:\n",
    "        return 1  # Abuelo es el nivel superior del árbol genealógico\n",
    "    #Se definen los dos sobrinos\n",
    "    elif persona in ['sobrino1', 'sobrino2']:\n",
    "        return 0\n",
    "    #Se definen los dos padres\n",
    "    elif persona in ['padre1', 'padre2']:\n",
    "        return 0\n",
    "    #Se define si es padre desconocido\n",
    "    elif persona == 'padre_desconocido':\n",
    "        return 0\n",
    "    #Se definen los cuatro hijos\n",
    "    elif persona in ['hijo1', 'hijo2', 'hijo3', 'hijo4']:\n",
    "        return 1\n",
    "    #Se definen los siete primos\n",
    "    elif persona in ['primo1', 'primo2', 'primo3', 'primo4', 'primo5', 'primo6', 'primo7']:\n",
    "        return 0\n",
    "    else:\n",
    "        return \"Persona no encontrada en el árbol genealógico\"\n",
    "\n",
    "#Lista de personas dentro de los datos\n",
    "opciones_personas = ['abuelo1', 'abuelo2', 'abuelo3', 'abuelo4', 'sobrino1', 'sobrino2', \n",
    "                     'padre1', 'padre2', 'padre_desconocido', 'hijo1', 'hijo2', 'hijo3', 'hijo4', \n",
    "                     'primo1', 'primo2', 'primo3', 'primo4', 'primo5', 'primo6', 'primo7']\n",
    "\n",
    "#Se solicita al usuario que seleccione la persona de la lista\n",
    "print(\"Seleccione la persona a evaluar:\")\n",
    "for i, persona in enumerate(opciones_personas, 1):\n",
    "    print(f\"{i}. {persona}\")\n",
    "\n",
    "seleccion = int(input(\"Ingrese el número correspondiente a la persona: \"))\n",
    "persona_seleccionada = opciones_personas[seleccion - 1]\n",
    "\n",
    "#Se  usa la función para determinar el parentesco\n",
    "resultado = determinar_parentesco(persona_seleccionada)\n",
    "\n",
    "#Se muestra el resultado\n",
    "if resultado == 1:\n",
    "    print(f\"{persona_seleccionada} es hijo del nivel superior del árbol genealógico.\")\n",
    "else:\n",
    "    print(f\"{persona_seleccionada} no es hijo del nivel superior del árbol genealógico.\")\n"
   ]
  },
  {
   "cell_type": "markdown",
   "metadata": {},
   "source": [
    "## Quinta pregunta (0/1)\n",
    "Genere una variable randomica, agréguelo en una lista con los primeros 100 números randomicos con seed = 15. Obtenga la desviación estándar, promedio, mínimo y máximo de la lista- Use pandas para facilidad"
   ]
  },
  {
   "cell_type": "code",
   "execution_count": 6,
   "metadata": {},
   "outputs": [
    {
     "name": "stdout",
     "output_type": "stream",
     "text": [
      "Desviación estándar: 0.2803783201093308\n",
      "Promedio: 0.44535962125232137\n",
      "Mínimo: 0.0016447577600704477\n",
      "Máximo: 0.998543402727172\n"
     ]
    }
   ],
   "source": [
    "#Se establece la semilla\n",
    "np.random.seed(15)\n",
    "\n",
    "#Se genera una lista de 100 números aleatorios\n",
    "lista_numeros = np.random.rand(100)\n",
    "\n",
    "#Se crea un DataFrame con las lista de números\n",
    "df_randomicos = pd.DataFrame({'Numeros_aleatorios': lista_numeros})\n",
    "\n",
    "#Se calculan las medidas estadísticas\n",
    "desviacion_estandar = df_randomicos['Numeros_aleatorios'].std()\n",
    "promedio = df_randomicos['Numeros_aleatorios'].mean()\n",
    "minimo = df_randomicos['Numeros_aleatorios'].min()\n",
    "maximo = df_randomicos['Numeros_aleatorios'].max()\n",
    "\n",
    "#Se imprimen los resultados\n",
    "print(f'Desviación estándar: {desviacion_estandar}')\n",
    "print(f'Promedio: {promedio}')\n",
    "print(f'Mínimo: {minimo}')\n",
    "print(f'Máximo: {maximo}')"
   ]
  },
  {
   "cell_type": "markdown",
   "metadata": {},
   "source": [
    "## Sexta pregunta (0/1)\n",
    "En el siguiente documento cuente la cantidad de letras usadas, genere un diccionario de salida con las frecuencias de cada letra encontrada.\n",
    "\n",
    "'Sobre si la inteligencia artificial acabará o no quitándonos el trabajo y a dónde llegará en los próximos 10 años hay mucho escrito. Desde el equipo de robótica de Google quieren que los robots sean aún más autónomos, y ya andan trabajando en un modelo para que puedan escribir su propio código. Esto abre las puertas a que los robots puedan ejecutar tareas más complejas con la expresión completa de lenguajes como Python.\n",
    "\n",
    "También abre la puerta a que se comporten de forma indebida, aunque hay una forma de controlarlos.\n",
    "\n",
    "Mediante modelos de lenguaje de última generación, como PaLM, Google asegura que es posible escribir no solo código genérico, sino también código capaz de controlar las acciones de los robots. Tras programar varias instrucciones y combinarlas con estos modelos, dichos modelos pueden generar de forma autónoma nuevo código.'"
   ]
  },
  {
   "cell_type": "code",
   "execution_count": 7,
   "metadata": {},
   "outputs": [
    {
     "name": "stdout",
     "output_type": "stream",
     "text": [
      "Frecuencia de letras encontradas (en orden alfabético):\n",
      "a: 79\n",
      "b: 17\n",
      "c: 31\n",
      "d: 32\n",
      "e: 80\n",
      "f: 4\n",
      "g: 17\n",
      "h: 5\n",
      "i: 39\n",
      "j: 6\n",
      "l: 33\n",
      "m: 25\n",
      "n: 47\n",
      "o: 88\n",
      "p: 19\n",
      "q: 9\n",
      "r: 46\n",
      "s: 48\n",
      "t: 29\n",
      "u: 29\n",
      "v: 2\n",
      "x: 2\n",
      "y: 7\n",
      "z: 1\n"
     ]
    }
   ],
   "source": [
    "#Se ingresa el texto\n",
    "texto = 'Sobre si la inteligencia artificial acabará o no quitándonos el trabajo y a dónde llegará en los próximos 10 años hay mucho escrito. Desde el equipo de robótica de Google quieren que los robots sean aún más autónomos, y ya andan trabajando en un modelo para que puedan escribir su propio código. Esto abre las puertas a que los robots puedan ejecutar tareas más complejas con la expresión completa de lenguajes como Python. También abre la puerta a que se comporten de forma indebida, aunque hay una forma de controlarlos. Mediante modelos de lenguaje de última generación, como PaLM, Google asegura que es posible escribir no solo código genérico, sino también código capaz de controlar las acciones de los robots. Tras programar varias instrucciones y combinarlas con estos modelos, dichos modelos pueden generar de forma autónoma nuevo código.'\n",
    "\n",
    "#Se define la función para para eliminar las tildes\n",
    "def eliminar_diacriticas(texto):\n",
    "    return ''.join(char for char in ud.normalize('NFD', texto) if ud.category(char) != 'Mn')\n",
    "\n",
    "#se convierte el texto a minúsculas para evitar errores\n",
    "texto = eliminar_diacriticas(texto.lower())\n",
    "\n",
    "#Se crea el diccionario para contar las letras\n",
    "frecuencia_letras = {}\n",
    "\n",
    "#Se recorre el texto y se cuentan las letras\n",
    "for caracter in texto:\n",
    "    if caracter.isalpha():\n",
    "        if caracter in frecuencia_letras:\n",
    "            frecuencia_letras[caracter] += 1\n",
    "        else:\n",
    "            frecuencia_letras[caracter] = 1\n",
    "\n",
    "#Se ordena el diccionario\n",
    "frecuencia_letras_ordenado = sorted(frecuencia_letras.items())\n",
    "\n",
    "#Se imprime el resultado\n",
    "print(\"Frecuencia de letras encontradas (en orden alfabético):\")\n",
    "for letra, frecuencia in frecuencia_letras_ordenado:\n",
    "    print(f\"{letra}: {frecuencia}\")"
   ]
  },
  {
   "cell_type": "markdown",
   "metadata": {},
   "source": [
    "## Séptima Pregunta (0,1)\n",
    "Cree una función de clase Carro que tenga atributos de ruedas, motor, y cantidad de asientos. luego genere tres clases hijas con tal de que sea coche, autobús y camioneta."
   ]
  },
  {
   "cell_type": "code",
   "execution_count": 8,
   "metadata": {},
   "outputs": [
    {
     "name": "stdout",
     "output_type": "stream",
     "text": [
      "Lista de vehículos disponibles:\n",
      "1. Coche\n",
      "2. Autobús\n",
      "3. Camioneta\n",
      "Camioneta con motor V6 y 7 asientos.\n"
     ]
    }
   ],
   "source": [
    "#Se define la clase carro\n",
    "class Carro:\n",
    "    def __init__(self, ruedas, motor, asientos):\n",
    "        self.ruedas = ruedas\n",
    "        self.motor = motor\n",
    "        self.asientos = asientos\n",
    "\n",
    "    def descripcion(self):\n",
    "        return f\"Carro con {self.ruedas} ruedas, motor {self.motor} y {self.asientos} asientos.\"\n",
    "\n",
    "#Se define la clase coche\n",
    "class Coche(Carro):\n",
    "    def __init__(self):\n",
    "        super().__init__(ruedas=4, motor=\"V8\", asientos=5)\n",
    "\n",
    "    def descripcion(self):\n",
    "        return f\"Coche con motor {self.motor} y {self.asientos} asientos.\"\n",
    "\n",
    "#Se define la clase autobus\n",
    "class Autobus(Carro):\n",
    "    def __init__(self):\n",
    "        super().__init__(ruedas=6, motor=\"Diesel\", asientos=50)\n",
    "\n",
    "    def descripcion(self):\n",
    "        return f\"Autobús con motor {self.motor} y {self.asientos} asientos.\"\n",
    "\n",
    "#Se define la clase camioneta\n",
    "class Camioneta(Carro):\n",
    "    def __init__(self):\n",
    "        super().__init__(ruedas=4, motor=\"V6\", asientos=7)\n",
    "\n",
    "    def descripcion(self):\n",
    "        return f\"Camioneta con motor {self.motor} y {self.asientos} asientos.\"\n",
    "\n",
    "#Se define la función para mostrar la selección del vehiculo\n",
    "def mostrar_vehiculos():\n",
    "    print(\"Lista de vehículos disponibles:\")\n",
    "    print(\"1. Coche\")\n",
    "    print(\"2. Autobús\")\n",
    "    print(\"3. Camioneta\")\n",
    "\n",
    "#Se define la selección de vehiculo por el usuario\n",
    "def seleccionar_vehiculo():\n",
    "    mostrar_vehiculos()\n",
    "    opcion = input(\"Ingrese el número correspondiente al tipo de vehículo: \")\n",
    "\n",
    "    if opcion == \"1\":\n",
    "        return Coche()\n",
    "    elif opcion == \"2\":\n",
    "        return Autobus()\n",
    "    elif opcion == \"3\":\n",
    "        return Camioneta()\n",
    "    else:\n",
    "        print(\"Opción no válida. Por favor, ingrese un número del 1 al 3.\")\n",
    "        return seleccionar_vehiculo()\n",
    "\n",
    "\n",
    "#Se imprime la descripción del vehiculo seleccionado\n",
    "vehiculo = seleccionar_vehiculo()\n",
    "print(vehiculo.descripcion())\n"
   ]
  },
  {
   "cell_type": "markdown",
   "metadata": {},
   "source": [
    "## Octava pregunta (0/1)\n",
    "Cree una función que calcule el factorial e identifique si el resultado es primo o no es primo."
   ]
  },
  {
   "cell_type": "code",
   "execution_count": 9,
   "metadata": {},
   "outputs": [
    {
     "name": "stdout",
     "output_type": "stream",
     "text": [
      "El factorial de 2 es: 2\n",
      "El factorial es primo.\n"
     ]
    }
   ],
   "source": [
    "#Se define la función para evaluar si es número primo del factorial\n",
    "def factorial_primo():\n",
    "    #Se solicita que se ingrese un número entero no negativo\n",
    "    while True:\n",
    "        try:\n",
    "            num = int(input(\"Ingrese un número entero no negativo para calcular su factorial: \"))\n",
    "            if num < 0:\n",
    "                print(\"El número debe ser no negativo. Inténtelo de nuevo.\")\n",
    "            else:\n",
    "                break\n",
    "        except ValueError:\n",
    "            print(\"Debe ingresar un número entero. Inténtelo de nuevo.\")\n",
    "\n",
    "    #Se calcula el factorial del número ingresado\n",
    "    factorial = 1\n",
    "    for i in range(1, num + 1):\n",
    "        factorial *= i\n",
    "\n",
    "    #Se verifica si el factorial es primo\n",
    "    es_primo = False\n",
    "    if factorial > 1:\n",
    "        es_primo = True\n",
    "        for j in range(2, int(factorial ** 0.5) + 1):\n",
    "            if factorial % j == 0:\n",
    "                es_primo = False\n",
    "                break\n",
    "\n",
    "    #Se imprime el resultado\n",
    "    print(f\"El factorial de {num} es: {factorial}\")\n",
    "    if es_primo:\n",
    "        print(\"El factorial es primo.\")\n",
    "    else:\n",
    "        print(\"El factorial no es primo.\")\n",
    "\n",
    "#Se llama la función\n",
    "factorial_primo()\n"
   ]
  },
  {
   "cell_type": "markdown",
   "metadata": {},
   "source": [
    "## Novena pregunta (0/1)\n",
    "De las siguientes fechas:\n",
    "2020-07-08 00:00:00\n",
    "2021-10-10 00:00:00\n",
    "2020-03-30 00:00:00\n",
    "2019-10-02 00:00:00\n",
    "2020-03-12 00:00:00\n",
    "2019-06-13 00:00:00\n",
    "2018-12-12 00:00:00\n",
    "2022-02-10 00:00:00\n",
    "2019-06-06 00:00:00\n",
    "2021-03-28 00:00:00\n",
    "Obtenga a la fecha de realizado el trabajo la diferencia en días, entregue un diccionario donde la fecha sea la clave y la diferencia el valor"
   ]
  },
  {
   "cell_type": "code",
   "execution_count": 10,
   "metadata": {},
   "outputs": [
    {
     "name": "stdout",
     "output_type": "stream",
     "text": [
      "Fecha: 2020-07-08 00:00:00 - Diferencia en días: 1410\n",
      "Fecha: 2021-10-10 00:00:00 - Diferencia en días: 951\n",
      "Fecha: 2020-03-30 00:00:00 - Diferencia en días: 1510\n",
      "Fecha: 2019-10-02 00:00:00 - Diferencia en días: 1690\n",
      "Fecha: 2020-03-12 00:00:00 - Diferencia en días: 1528\n",
      "Fecha: 2019-06-13 00:00:00 - Diferencia en días: 1801\n",
      "Fecha: 2018-12-12 00:00:00 - Diferencia en días: 1984\n",
      "Fecha: 2022-02-10 00:00:00 - Diferencia en días: 828\n",
      "Fecha: 2019-06-06 00:00:00 - Diferencia en días: 1808\n",
      "Fecha: 2021-03-28 00:00:00 - Diferencia en días: 1147\n"
     ]
    }
   ],
   "source": [
    "#Se define la función de diferencia en días\n",
    "def diferencia_en_dias(fechas):\n",
    "    fecha_comparacion = datetime(2024, 5, 18)\n",
    "    diferencia_dias = {}\n",
    "\n",
    "    for fecha in fechas:\n",
    "        fecha_realizado = datetime.strptime(fecha, \"%Y-%m-%d %H:%M:%S\")\n",
    "        diferencia = fecha_comparacion - fecha_realizado\n",
    "        diferencia_dias[fecha] = diferencia.days\n",
    "\n",
    "    return diferencia_dias\n",
    "\n",
    "#Se ingresan las fechas en una lista\n",
    "fechas = [\n",
    "    \"2020-07-08 00:00:00\",\n",
    "    \"2021-10-10 00:00:00\",\n",
    "    \"2020-03-30 00:00:00\",\n",
    "    \"2019-10-02 00:00:00\",\n",
    "    \"2020-03-12 00:00:00\",\n",
    "    \"2019-06-13 00:00:00\",\n",
    "    \"2018-12-12 00:00:00\",\n",
    "    \"2022-02-10 00:00:00\",\n",
    "    \"2019-06-06 00:00:00\",\n",
    "    \"2021-03-28 00:00:00\"\n",
    "]\n",
    "\n",
    "#Se calcula la diferencia y se ingresan al diccionario\n",
    "diferencias = diferencia_en_dias(fechas)\n",
    "\n",
    "#Se muestran los resultados obtenidos\n",
    "for fecha, diferencia in diferencias.items():\n",
    "    print(f\"Fecha: {fecha} - Diferencia en días: {diferencia}\")"
   ]
  },
  {
   "cell_type": "markdown",
   "metadata": {},
   "source": [
    "## Decima Pregunta (0/1)\n",
    "Cree una calculadora básica a partir de funciones donde contenga:\n",
    "\n",
    "    Sumar\n",
    "    Restar\n",
    "    Dividir\n",
    "    Multiplicar\n",
    "    Obtener la Media\n",
    "    Obtener la desviación estándar\n",
    "    Calcular la banda de Bollinger\n",
    "    Calcular el mínimo\n",
    "    Calcular el máximo\n",
    "\n",
    "Note que la calculadora no debe permitir operaciones ilógicas y debe tener una entrada para una lista de 10 dígitos en caso de calcular medidas estadísticas. Solo use funciones no use ninguna interfaz gráfica."
   ]
  },
  {
   "cell_type": "code",
   "execution_count": 11,
   "metadata": {},
   "outputs": [
    {
     "name": "stdout",
     "output_type": "stream",
     "text": [
      "Banda de Bollinger\n",
      "Opción seleccionada: 7\n",
      "Resultado: (-369.3448045156721, 674.3448045156721)\n"
     ]
    }
   ],
   "source": [
    "#Se definen las funciones de la calculadora\n",
    "def sumar(a, b):\n",
    "    return a + b\n",
    "\n",
    "def restar(a, b):\n",
    "    return a - b\n",
    "\n",
    "def dividir(a, b):\n",
    "    if b == 0:\n",
    "        raise ValueError(\"No se puede dividir entre cero.\")\n",
    "    return a / b\n",
    "\n",
    "def multiplicar(a, b):\n",
    "    return a * b\n",
    "\n",
    "def media(lista):\n",
    "    return sum(lista) / len(lista)\n",
    "\n",
    "def desviacion_estandar(lista):\n",
    "    return statistics.stdev(lista)\n",
    "\n",
    "def banda_bollinger(lista):\n",
    "    media_valores = media(lista)\n",
    "    desviacion_valores = desviacion_estandar(lista)\n",
    "    banda_superior = media_valores + (2 * desviacion_valores)\n",
    "    banda_inferior = media_valores - (2 * desviacion_valores)\n",
    "    return banda_inferior, banda_superior\n",
    "\n",
    "def minimo(lista):\n",
    "    return min(lista)\n",
    "\n",
    "def maximo(lista):\n",
    "    return max(lista)\n",
    "\n",
    "#Se definen las opciones para seleccionar qué función se quiere realizar\n",
    "mensaje_opciones = \"\"\"\n",
    "Opciones:\n",
    "1. Sumar\n",
    "2. Restar\n",
    "3. Dividir\n",
    "4. Multiplicar\n",
    "5. Media\n",
    "6. Desviación Estándar\n",
    "7. Banda de Bollinger\n",
    "8. Mínimo\n",
    "9. Máximo\n",
    "\"\"\"\n",
    "\n",
    "#Se solicita seleccionar la opción\n",
    "opcion = int(input(mensaje_opciones + \"Ingrese el número correspondiente a la operación que desea realizar: \"))\n",
    "\n",
    "#Se realiza la operación\n",
    "if opcion in [5, 6, 7]:\n",
    "    numeros = []\n",
    "    for i in range(10):\n",
    "        numero = float(input(f\"Ingrese el número {i+1}: \"))\n",
    "        numeros.append(numero)\n",
    "\n",
    "    if opcion == 5:\n",
    "        resultado = media(numeros)\n",
    "        print('Media')\n",
    "    elif opcion == 6:\n",
    "        resultado = desviacion_estandar(numeros)\n",
    "        print('Desviación estandar')\n",
    "    elif opcion == 7:\n",
    "        resultado = banda_bollinger(numeros)\n",
    "        print('Banda de Bollinger')\n",
    "else:\n",
    "    if opcion == 1:\n",
    "        num1 = int(input(\"Ingrese el primer número: \"))\n",
    "        num2 = int(input(\"Ingrese el segundo número: \"))\n",
    "        resultado = sumar(num1, num2)\n",
    "    elif opcion == 2:\n",
    "        num1 = int(input(\"Ingrese el primer número: \"))\n",
    "        num2 = int(input(\"Ingrese el segundo número: \"))\n",
    "        resultado = restar(num1, num2)\n",
    "    elif opcion == 3:\n",
    "        num1 = int(input(\"Ingrese el primer número: \"))\n",
    "        num2 = int(input(\"Ingrese el segundo número: \"))\n",
    "        resultado = dividir(num1, num2)\n",
    "    elif opcion == 4:\n",
    "        num1 = int(input(\"Ingrese el primer número: \"))\n",
    "        num2 = int(input(\"Ingrese el segundo número: \"))\n",
    "        resultado = multiplicar(num1, num2)\n",
    "    elif opcion == 8:\n",
    "        numeros = []\n",
    "        for i in range(10):\n",
    "            numero = float(input(f\"Ingrese el número {i+1}: \"))\n",
    "            numeros.append(numero)\n",
    "        resultado = minimo(numeros)\n",
    "    elif opcion == 9:\n",
    "        numeros = []\n",
    "        for i in range(10):\n",
    "            numero = float(input(f\"Ingrese el número {i+1}: \"))\n",
    "            numeros.append(numero)\n",
    "        resultado = maximo(numeros)\n",
    "    else:\n",
    "        resultado = \"Opción no válida\"\n",
    "\n",
    "#Se imprime el resultado\n",
    "print(f'Opción seleccionada: {opcion}')\n",
    "print(f'Resultado: {resultado}')\n"
   ]
  }
 ],
 "metadata": {
  "kernelspec": {
   "display_name": "Python 3",
   "language": "python",
   "name": "python3"
  },
  "language_info": {
   "codemirror_mode": {
    "name": "ipython",
    "version": 3
   },
   "file_extension": ".py",
   "mimetype": "text/x-python",
   "name": "python",
   "nbconvert_exporter": "python",
   "pygments_lexer": "ipython3",
   "version": "3.12.2"
  }
 },
 "nbformat": 4,
 "nbformat_minor": 2
}
